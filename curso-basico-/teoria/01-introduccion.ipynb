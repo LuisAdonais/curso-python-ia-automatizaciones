{
 "cells": [
  {
   "cell_type": "markdown",
   "id": "4dfeffac",
   "metadata": {},
   "source": [
    "este es un ejemplo"
   ]
  },
  {
   "cell_type": "code",
   "execution_count": null,
   "id": "0387ff5c",
   "metadata": {},
   "outputs": [],
   "source": [
    "#escribe el codigo "
   ]
  }
 ],
 "metadata": {
  "language_info": {
   "name": "python"
  }
 },
 "nbformat": 4,
 "nbformat_minor": 5
}
